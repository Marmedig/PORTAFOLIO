{
  "nbformat": 4,
  "nbformat_minor": 0,
  "metadata": {
    "colab": {
      "provenance": [],
      "include_colab_link": true
    },
    "kernelspec": {
      "name": "python3",
      "display_name": "Python 3"
    },
    "language_info": {
      "name": "python"
    }
  },
  "cells": [
    {
      "cell_type": "markdown",
      "metadata": {
        "id": "view-in-github",
        "colab_type": "text"
      },
      "source": [
        "<a href=\"https://colab.research.google.com/github/Marmedig/Portafolio/blob/main/An%C3%A1lisis_de_datos_ficha_2524603_.ipynb\" target=\"_parent\"><img src=\"https://colab.research.google.com/assets/colab-badge.svg\" alt=\"Open In Colab\"/></a>"
      ]
    },
    {
      "cell_type": "code",
      "execution_count": null,
      "metadata": {
        "id": "DCfuH2It0KvO",
        "colab": {
          "base_uri": "https://localhost:8080/"
        },
        "outputId": "0d5f024e-51d9-466f-c6a8-ae807a2eed91"
      },
      "outputs": [
        {
          "output_type": "stream",
          "name": "stdout",
          "text": [
            "hola mundo\n"
          ]
        }
      ],
      "source": [
        "print(\"hola mundo\")"
      ]
    },
    {
      "cell_type": "code",
      "source": [
        "import pandas as pd\n",
        "serie = pd.Series([2.5,5.0,3.5,4.0,3.0],index =['Miguel','Brayan','Mariana','Nicolas','Laura'])\n",
        "# print(serie)\n",
        "#me cuenta el numero de elementos que tiene la serie\n",
        "# print(serie.size)\n",
        "#me muestra el indice\n",
        "# print(serie.index)\n",
        "#me muestra el tipo de dato que tiene la serie\n",
        "# print(serie.dtype)\n",
        "print('El nombre del aprendiz es: ',serie.idxmax(),'  La mayor calificación es: ',serie.max())\n"
      ],
      "metadata": {
        "colab": {
          "base_uri": "https://localhost:8080/"
        },
        "id": "9WYvryhsBHBC",
        "outputId": "84fc852d-2cd9-4b8f-e287-e1c33b84d73c"
      },
      "execution_count": null,
      "outputs": [
        {
          "output_type": "stream",
          "name": "stdout",
          "text": [
            "El nombre del aprendiz es:  Brayan   La mayor calificación es:  5.0\n"
          ]
        }
      ]
    },
    {
      "cell_type": "code",
      "source": [
        "import pandas as pd\n",
        "# suma promedio\n",
        "serie = pd.Series([2.5,5.0,3.5,4.0,3.0],index =['Miguel','Brayan','Mariana','Nicolas','Laura'])\n",
        "print(serie[serie > 3.4])"
      ],
      "metadata": {
        "colab": {
          "base_uri": "https://localhost:8080/"
        },
        "id": "uXiXQQjegtYS",
        "outputId": "138de234-1c3f-4e09-c259-4c9f59a4d087"
      },
      "execution_count": null,
      "outputs": [
        {
          "output_type": "stream",
          "name": "stdout",
          "text": [
            "Brayan     5.0\n",
            "Mariana    3.5\n",
            "Nicolas    4.0\n",
            "dtype: float64\n"
          ]
        }
      ]
    },
    {
      "cell_type": "code",
      "source": [
        "import pandas as pd\n",
        "# suma promedio\n",
        "serie = pd.Series([2.5,5.0,3.5,4.0,3.0],index =['Miguel','Brayan','Mariana','Nicolas','Laura'])\n",
        "print(\"el promedio de de las calificaciones es:\", serie.sum ()/5)"
      ],
      "metadata": {
        "colab": {
          "base_uri": "https://localhost:8080/"
        },
        "id": "-FQbtNqsbrbo",
        "outputId": "56f3eab3-a9d2-4fee-d2d1-db7b01be43ac"
      },
      "execution_count": null,
      "outputs": [
        {
          "output_type": "stream",
          "name": "stdout",
          "text": [
            "el promedio de de lsd calificaciones es: 3.6\n"
          ]
        }
      ]
    },
    {
      "cell_type": "code",
      "source": [
        "import pandas as pd\n",
        "#menor calificacion 2 aprendices\n",
        "serie = pd.Series([2.5,5.0,3.5,4.0,3.0],index =['Miguel','Brayan','Mariana','Nicolas','Laura'])\n",
        "print(\"los dos aprendices con menor calificacion son /n\",serie.nsmallest(2))"
      ],
      "metadata": {
        "id": "DTI-hdjndiCg"
      },
      "execution_count": null,
      "outputs": []
    },
    {
      "cell_type": "code",
      "source": [
        "import pandas as pd\n",
        "#aprendices decsendentemente\n",
        "serie = pd.Series([2.5,5.0,3.5,4.0,3.0],index =['Miguel','Brayan','Mariana','Nicolas','Laura'])\n",
        "serie.sort_values(ascending=True)"
      ],
      "metadata": {
        "colab": {
          "base_uri": "https://localhost:8080/"
        },
        "id": "89-PSo1AdJLw",
        "outputId": "13070c1c-98c4-481f-c6d8-ea77f250a58e"
      },
      "execution_count": null,
      "outputs": [
        {
          "output_type": "stream",
          "name": "stdout",
          "text": [
            "los dos aprendices con menor calificacion son /n Miguel    2.5\n",
            "Laura     3.0\n",
            "dtype: float64\n"
          ]
        }
      ]
    },
    {
      "cell_type": "code",
      "source": [
        "costo_por_hora =1200\n",
        "horas_utilizadas =float(input(\"Ingrese el número de horas utilizadas: \"))\n",
        "monto_a_pagar = costo_por_hora* horas_utilizadas\n",
        "print(\"el monto a pagar es; \", monto_a_pagar, \"pesos\")"
      ],
      "metadata": {
        "colab": {
          "base_uri": "https://localhost:8080/"
        },
        "id": "tGg59Jq11BdB",
        "outputId": "57ec0765-488d-4e1e-dd1c-3c09550c4443"
      },
      "execution_count": null,
      "outputs": [
        {
          "output_type": "stream",
          "name": "stdout",
          "text": [
            "Ingrese el número de horas utilizadas: 2\n",
            "el monto a pagar es;  2400.0 pesos\n"
          ]
        }
      ]
    },
    {
      "cell_type": "code",
      "source": [
        "velocidad_original= 45\n",
        "tiempo_original=2\n",
        "distancia_original= velocidad_original * tiempo_original\n",
        "nuevo_tiempo = float(input(\"Ingrese el nuevo tiempo en horas: \"))\n",
        "nueva_velocidad = distancia_original / nuevo_tiempo\n",
        "print(\"la nueva velocidad es:\", nueva_velocidad,\"km/h\")"
      ],
      "metadata": {
        "colab": {
          "base_uri": "https://localhost:8080/"
        },
        "id": "ph2zuPTR1jgB",
        "outputId": "06e90ed0-5edb-4191-a405-0733915075be"
      },
      "execution_count": null,
      "outputs": [
        {
          "output_type": "stream",
          "name": "stdout",
          "text": [
            "Ingrese el nuevo tiempo en horas: 3\n",
            "la nueva velocidad es: 30.0 km/h\n"
          ]
        }
      ]
    },
    {
      "cell_type": "code",
      "source": [
        "salario_actual = float(input(\"Ingrese el salario actual del empleado en pesos: \"))\n",
        "incremento = salario_actual * 0.10\n",
        "descuento = salario_actual * 0.035\n",
        "nuevo_salario = salario_actual + incremento - descuento\n",
        "print(\"el nuevo salario del empleado es: \", nuevo_salario, \"pesos\")"
      ],
      "metadata": {
        "colab": {
          "base_uri": "https://localhost:8080/"
        },
        "id": "iWqX_W2C18t4",
        "outputId": "a518baae-8afb-4ee9-ee2e-bb6a3dd03412"
      },
      "execution_count": null,
      "outputs": [
        {
          "output_type": "stream",
          "name": "stdout",
          "text": [
            "Ingrese el salario actual del empleado en pesos: 1000000\n",
            "el nuevo salario del empleado es:  1065000.0 pesos\n"
          ]
        }
      ]
    },
    {
      "cell_type": "code",
      "source": [
        "tasa_cambio_dolares = 0.00024\n",
        "tasa_cambio_euros = 0.00022\n",
        "monto_pesos = float(input(\"ingrese la cantidad en pesos colombianos: \"))\n",
        "monto_dolares = monto_pesos * tasa_cambio_dolares\n",
        "monto_euros = monto_pesos * tasa_cambio_euros\n",
        "print(f\"{monto_pesos}pesos colombianos son aproximadamente {monto_dolares} dólares\")\n",
        "print(f\"{monto_pesos}pesos colombianos son aproximadamente {monto_euros} euros\")\n",
        "\n"
      ],
      "metadata": {
        "colab": {
          "base_uri": "https://localhost:8080/"
        },
        "id": "VyRoWqbn2gPQ",
        "outputId": "77c54291-71a1-4e62-b89d-e84c39820b04"
      },
      "execution_count": null,
      "outputs": [
        {
          "output_type": "stream",
          "name": "stdout",
          "text": [
            "ingrese la cantidad en pesos colombianos: 10000\n",
            "10000.0pesos colombianos son aproximadamente 2.4 dólares\n",
            "10000.0pesos colombianos son aproximadamente 2.2 euros\n"
          ]
        }
      ]
    },
    {
      "cell_type": "code",
      "source": [
        "capital_inicial = float(input(\"Ingrese la cantidad de dinero a invertir: \"))\n",
        "tasa_interes_mensual = 0.015\n",
        "meses_por_ano =12\n",
        "monto_final = capital_inicial * (1 + tasa_interes_mensual) ** meses_por_ano\n",
        "print(f\"Despues de un año, su dinero habrá crecido aprox : {monto_final:.2f} pesos\")"
      ],
      "metadata": {
        "colab": {
          "base_uri": "https://localhost:8080/"
        },
        "id": "JFcCOdlK3XyR",
        "outputId": "fd1e63d8-5d07-4670-d2d8-14f6d0d3f9fe"
      },
      "execution_count": null,
      "outputs": [
        {
          "output_type": "stream",
          "name": "stdout",
          "text": [
            "Ingrese la cantidad de dinero a invertir: 1000000\n",
            "Despues de un año, su dinero habrá crecido aprox : 1195618.17 pesos\n"
          ]
        }
      ]
    },
    {
      "cell_type": "code",
      "source": [
        "import matplotlib.pyplot as plt\n",
        "# Capturar por teclado el numero de aprendices\n",
        "num_aprendices=int(input(\"Ingrese el numero de aprendices que va a almacenar \"))\n",
        "# inicializacion de la serie y/o vector aprendices\n",
        "aprendices=[]\n",
        "calificaciones=[]\n",
        "\n",
        "for i in range(num_aprendices):\n",
        "  nombre=input(\"Digite el nombre del aprendiz \")\n",
        "  calificacion=float(input(\"Digite la calificacion \"))\n",
        "  #utilizaremos un metodo append para asignar el valor a la serie\n",
        "  aprendices.append(nombre)\n",
        "  calificaciones.append(calificacion)\n",
        "  i=i+1\n",
        "#crear el grafico y/o histograma\n",
        "plt.bar(aprendices,calificaciones, color='pink')\n",
        "\n",
        "#Personalizar el histograma\n",
        "plt.xlabel(aprendices)\n",
        "plt.ylabel(calificaciones)\n",
        "\n",
        "plt.title(\"Calificaciones de los aprendices ficha 2524603\")\n",
        "#establecer los limites del plano cartesiano\n",
        "plt.ylim(0,5)\n",
        "#mostrar el histograma\n",
        "plt.show()"
      ],
      "metadata": {
        "colab": {
          "base_uri": "https://localhost:8080/",
          "height": 559
        },
        "id": "mgrPFfRmquOH",
        "outputId": "d2fba611-9798-463e-c89e-390be30b6436"
      },
      "execution_count": null,
      "outputs": [
        {
          "name": "stdout",
          "output_type": "stream",
          "text": [
            "Ingrese el numero de aprendices que va a almacenar 2\n",
            "Digite el nombre del aprendiz mariana\n",
            "Digite la calificacion 5\n",
            "Digite el nombre del aprendiz sharik\n",
            "Digite la calificacion 2\n"
          ]
        },
        {
          "output_type": "display_data",
          "data": {
            "text/plain": [
              "<Figure size 640x480 with 1 Axes>"
            ],
            "image/png": "[encoded data removed]"
          },
          "metadata": {}
        }
      ]
    },
    {
      "cell_type": "code",
      "source": [
        "import matplotlib.pyplot as plt\n",
        "\n",
        "# Capturar por teclado el número de aprendices\n",
        "num_aprendices = int(input(\"Ingrese el número de aprendices que va a almacenar \"))\n",
        "\n",
        "# Inicialización de la serie y/o vector aprendices\n",
        "aprendices = []\n",
        "calificaciones = []\n",
        "\n",
        "for i in range(num_aprendices):\n",
        "    nombre = input(\"Digite el nombre del aprendiz \")\n",
        "    calificacion = float(input(\"Digite la calificación \"))\n",
        "    # Utilizaremos un método append para asignar el valor a la serie\n",
        "    aprendices.append(nombre)\n",
        "    calificaciones.append(calificacion)\n",
        "\n",
        "# Encontrar la menor calificación, la mayor calificación y el promedio\n",
        "min_calificacion = min(calificaciones)\n",
        "max_calificacion = max(calificaciones)\n",
        "promedio = sum(calificaciones) / num_aprendices\n",
        "\n",
        "# Crear el gráfico de barras para las calificaciones de los aprendices\n",
        "plt.bar(aprendices, calificaciones, color='pink')\n",
        "\n",
        "# Personalizar el histograma\n",
        "plt.xlabel(\"Aprendices\")\n",
        "plt.ylabel(\"Calificaciones\")\n",
        "plt.title(\"Calificaciones de los aprendices ficha 2524603\")\n",
        "\n",
        "# Establecer los límites del plano cartesiano\n",
        "plt.ylim(0, 6)\n",
        "\n",
        "# Mostrar el histograma\n",
        "plt.show()\n",
        "\n",
        "# Crear un nuevo gráfico de barras para las estadísticas (menor, mayor y promedio)\n",
        "estadisticas = ['Menor', 'Mayor', 'Promedio']\n",
        "valores_estadisticas = [min_calificacion, max_calificacion, promedio]\n",
        "\n",
        "plt.bar(estadisticas, valores_estadisticas, color='purple')\n",
        "\n",
        "# Personalizar el histograma de estadísticas\n",
        "plt.xlabel(\"Estadísticas\")\n",
        "plt.ylabel(\"Calificaciones\")\n",
        "plt.title(\"Estadísticas de calificaciones\")\n",
        "\n",
        "# Establecer los límites del plano cartesiano\n",
        "plt.ylim(0, 6)\n",
        "\n",
        "# Mostrar el histograma de estadísticas\n",
        "plt.show()"
      ],
      "metadata": {
        "colab": {
          "base_uri": "https://localhost:8080/",
          "height": 1000
        },
        "id": "6lw-qJ9FuupG",
        "outputId": "fd21a81e-a658-4eb1-d8f9-94061e5190b6"
      },
      "execution_count": null,
      "outputs": [
        {
          "name": "stdout",
          "output_type": "stream",
          "text": [
            "Ingrese el número de aprendices que va a almacenar 2\n",
            "Digite el nombre del aprendiz mariana\n",
            "Digite la calificación 2\n",
            "Digite el nombre del aprendiz sharik\n",
            "Digite la calificación 5\n"
          ]
        },
        {
          "output_type": "display_data",
          "data": {
            "text/plain": [
              "<Figure size 640x480 with 1 Axes>"
            ],
            "image/png": "[encoded data removed]"
          },
          "metadata": {}
        },
        {
          "output_type": "display_data",
          "data": {
            "text/plain": [
              "<Figure size 640x480 with 1 Axes>"
            ],
            "image/png": "[encoded data removed]"
          },
          "metadata": {}
        }
      ]
    },
    {
      "cell_type": "markdown",
      "source": [],
      "metadata": {
        "id": "LjTcwrUb0wSH"
      }
    },
    {
      "cell_type": "code",
      "source": [
        "from re import I\n",
        "import pandas as pd\n",
        "#cargamps el registroen el dicccionario de datos para el data frame\n",
        "aprendices = {'Nombres':[\"Miguel\", \"Brayan\", \"Mariana\", \"Nicolas\", \"Laura\"],\n",
        "              'Apellidos':[\"Martinez\", \"Bernal\", \"Guerrero\", \"Martinez\", \"Lopez\"],\n",
        "              'Sexo':[\"M\", \"M\", \"F\", \"M\", \"F\"],\n",
        "              'Edad':[25, 20, 19, 22, 20]\n",
        "              }\n",
        "#definimos una vaiable df para mostrar los registros\n",
        "df = pd.DataFrame(aprendices);\n",
        "print(df)\n",
        "\n",
        "#definimos una variable edad_menor\n",
        "mayor_edad = df ['Edad'].max()\n",
        "print(\"el de mayor edad es:\", mayor_edad)\n",
        "\n",
        "#definimos la variable mediana\n",
        "mediana = df ['Edad'].mean()\n",
        "print(\"el promdio de la edades es:\", mediana)\n",
        "\n",
        "#hombres mayor de edad\n",
        "hombres = df[df['Sexo'] == 'M']\n",
        "mayor_edad = hombres ['Edad'].max()\n",
        "mayores_edad_hom = hombres[hombres['Edad'] == mayor_edad]\n",
        "print(\"los hombres mayores de edad son:\", mayores_edad_hom)\n",
        "\n",
        "#filtrar apellido martinez\n",
        "Apellidos = df[df['Apellidos'] == \"Martinez\"]\n",
        "print(\"los que tienen apellido martinez son:\",Apellidos)\n",
        "\n",
        "#filtrara mayores a 21\n",
        "mayores_21 = df[df['Edad'] < 21]\n",
        "print(\"los mayores de 21 son:\", mayores_21)\n",
        "\n",
        "\n",
        "#graficar edades\n",
        "import pandas as pd\n",
        "import matplotlib.pyplot as plt\n",
        "\n",
        "#cargamps el registroen el dicccionario de datos para el data frame\n",
        "aprendices = {'Nombres':[\"Miguel\", \"Brayan\", \"Mariana\", \"Nicolas\", \"Laura\"],\n",
        "              'Apellidos':[\"Martinez\", \"Bernal\", \"Guerrero\", \"Martinez\", \"Lopez\"],\n",
        "              'Sexo':[\"M\", \"M\", \"F\", \"M\", \"F\"],\n",
        "              'Edad':[25, 20, 19, 22, 20]\n",
        "              }\n",
        "\n",
        "plt.bar(df['Nombres'],df['Edad'])\n"
      ],
      "metadata": {
        "colab": {
          "base_uri": "https://localhost:8080/",
          "height": 742
        },
        "id": "fgH28KxGUbFp",
        "outputId": "140a9fcf-fd4d-491a-c099-f8b897bc9e97"
      },
      "execution_count": null,
      "outputs": [
        {
          "output_type": "stream",
          "name": "stdout",
          "text": [
            "   Nombres Apellidos Sexo  Edad\n",
            "0   Miguel  Martinez    M    25\n",
            "1   Brayan    Bernal    M    20\n",
            "2  Mariana  Guerrero    F    19\n",
            "3  Nicolas  Martinez    M    22\n",
            "4    Laura     Lopez    F    20\n",
            "el de mayor edad es: 25\n",
            "el promdio de la edades es: 21.2\n",
            "los hombres mayores de edad son:   Nombres Apellidos Sexo  Edad\n",
            "0  Miguel  Martinez    M    25\n",
            "los que tienen apellido martinez son:    Nombres Apellidos Sexo  Edad\n",
            "0   Miguel  Martinez    M    25\n",
            "3  Nicolas  Martinez    M    22\n",
            "los mayores de 21 son:    Nombres Apellidos Sexo  Edad\n",
            "1   Brayan    Bernal    M    20\n",
            "2  Mariana  Guerrero    F    19\n",
            "4    Laura     Lopez    F    20\n"
          ]
        },
        {
          "output_type": "execute_result",
          "data": {
            "text/plain": [
              "<BarContainer object of 5 artists>"
            ]
          },
          "metadata": {},
          "execution_count": 15
        },
        {
          "output_type": "display_data",
          "data": {
            "text/plain": [
              "<Figure size 640x480 with 1 Axes>"
            ],
            "image/png": "[encoded data removed]"
          },
          "metadata": {}
        }
      ]
    },
    {
      "cell_type": "code",
      "source": [
        "import pandas as pd\n",
        "df = pd.DataFrame(columns = ['Nombre', 'Apellido', 'Sexo', 'Edad'])\n",
        "n = int(input(\"Numero de registros a ingresar:\"))\n",
        "data = []\n",
        "for i in range(n):\n",
        "  Nombre = input(\"Nombre:\")\n",
        "  Apellido = input(\"Apellido:\")\n",
        "  Sexo = input(\"Sexo:\")\n",
        "  Edad = int (input(\"Edad:\"))\n",
        "\n",
        "data.append({'Nombre': Nombre, 'Apellido': Apellido, 'Sexo': Sexo, 'Edad': Edad})\n",
        "df = pd.concat([df, pd.DataFrame(data)],ignore_index=True)\n",
        "print(df)"
      ],
      "metadata": {
        "colab": {
          "base_uri": "https://localhost:8080/"
        },
        "id": "DxawvbvE3re1",
        "outputId": "6fb52306-947b-40e5-a2fb-40e331abfd44"
      },
      "execution_count": null,
      "outputs": [
        {
          "output_type": "stream",
          "name": "stdout",
          "text": [
            "Numero de registros a ingresar:1\n",
            "Nombre:sharik\n",
            "Apellido:segura\n",
            "Sexo:f\n",
            "Edad:19\n",
            "   Nombre Apellido Sexo Edad\n",
            "0  sharik   segura    f   19\n"
          ]
        }
      ]
    },
    {
      "cell_type": "code",
      "source": [
        "from google.colab import files\n",
        "load =files.upload()"
      ],
      "metadata": {
        "id": "T_MmFH8uz_B-",
        "colab": {
          "base_uri": "https://localhost:8080/",
          "height": 73
        },
        "outputId": "b36b4974-5f68-49b3-c0d9-0ac9b78fb42a"
      },
      "execution_count": null,
      "outputs": [
        {
          "output_type": "display_data",
          "data": {
            "text/plain": [
              "<IPython.core.display.HTML object>"
            ],
            "text/html": [
              "\n",
              "     <input type=\"file\" id=\"files-bf582f3e-dca2-4b53-b6f8-7618b6d2fb95\" name=\"files[]\" multiple disabled\n",
              "        style=\"border:none\" />\n",
              "     <output id=\"result-bf582f3e-dca2-4b53-b6f8-7618b6d2fb95\">\n",
              "      Upload widget is only available when the cell has been executed in the\n",
              "      current browser session. Please rerun this cell to enable.\n",
              "      </output>\n",
              "      <script>// Copyright 2017 Google LLC\n",
              "//\n",
              "// Licensed under the Apache License, Version 2.0 (the \"License\");\n",
              "// you may not use this file except in compliance with the License.\n",
              "// You may obtain a copy of the License at\n",
              "//\n",
              "//      http://www.apache.org/licenses/LICENSE-2.0\n",
              "//\n",
              "// Unless required by applicable law or agreed to in writing, software\n",
              "// distributed under the License is distributed on an \"AS IS\" BASIS,\n",
              "// WITHOUT WARRANTIES OR CONDITIONS OF ANY KIND, either express or implied.\n",
              "// See the License for the specific language governing permissions and\n",
              "// limitations under the License.\n",
              "\n",
              "/**\n",
              " * @fileoverview Helpers for google.colab Python module.\n",
              " */\n",
              "(function(scope) {\n",
              "function span(text, styleAttributes = {}) {\n",
              "  const element = document.createElement('span');\n",
              "  element.textContent = text;\n",
              "  for (const key of Object.keys(styleAttributes)) {\n",
              "    element.style[key] = styleAttributes[key];\n",
              "  }\n",
              "  return element;\n",
              "}\n",
              "\n",
              "// Max number of bytes which will be uploaded at a time.\n",
              "const MAX_PAYLOAD_SIZE = 100 * 1024;\n",
              "\n",
              "function _uploadFiles(inputId, outputId) {\n",
              "  const steps = uploadFilesStep(inputId, outputId);\n",
              "  const outputElement = document.getElementById(outputId);\n",
              "  // Cache steps on the outputElement to make it available for the next call\n",
              "  // to uploadFilesContinue from Python.\n",
              "  outputElement.steps = steps;\n",
              "\n",
              "  return _uploadFilesContinue(outputId);\n",
              "}\n",
              "\n",
              "// This is roughly an async generator (not supported in the browser yet),\n",
              "// where there are multiple asynchronous steps and the Python side is going\n",
              "// to poll for completion of each step.\n",
              "// This uses a Promise to block the python side on completion of each step,\n",
              "// then passes the result of the previous step as the input to the next step.\n",
              "function _uploadFilesContinue(outputId) {\n",
              "  const outputElement = document.getElementById(outputId);\n",
              "  const steps = outputElement.steps;\n",
              "\n",
              "  const next = steps.next(outputElement.lastPromiseValue);\n",
              "  return Promise.resolve(next.value.promise).then((value) => {\n",
              "    // Cache the last promise value to make it available to the next\n",
              "    // step of the generator.\n",
              "    outputElement.lastPromiseValue = value;\n",
              "    return next.value.response;\n",
              "  });\n",
              "}\n",
              "\n",
              "/**\n",
              " * Generator function which is called between each async step of the upload\n",
              " * process.\n",
              " * @param {string} inputId Element ID of the input file picker element.\n",
              " * @param {string} outputId Element ID of the output display.\n",
              " * @return {!Iterable<!Object>} Iterable of next steps.\n",
              " */\n",
              "function* uploadFilesStep(inputId, outputId) {\n",
              "  const inputElement = document.getElementById(inputId);\n",
              "  inputElement.disabled = false;\n",
              "\n",
              "  const outputElement = document.getElementById(outputId);\n",
              "  outputElement.innerHTML = '';\n",
              "\n",
              "  const pickedPromise = new Promise((resolve) => {\n",
              "    inputElement.addEventListener('change', (e) => {\n",
              "      resolve(e.target.files);\n",
              "    });\n",
              "  });\n",
              "\n",
              "  const cancel = document.createElement('button');\n",
              "  inputElement.parentElement.appendChild(cancel);\n",
              "  cancel.textContent = 'Cancel upload';\n",
              "  const cancelPromise = new Promise((resolve) => {\n",
              "    cancel.onclick = () => {\n",
              "      resolve(null);\n",
              "    };\n",
              "  });\n",
              "\n",
              "  // Wait for the user to pick the files.\n",
              "  const files = yield {\n",
              "    promise: Promise.race([pickedPromise, cancelPromise]),\n",
              "    response: {\n",
              "      action: 'starting',\n",
              "    }\n",
              "  };\n",
              "\n",
              "  cancel.remove();\n",
              "\n",
              "  // Disable the input element since further picks are not allowed.\n",
              "  inputElement.disabled = true;\n",
              "\n",
              "  if (!files) {\n",
              "    return {\n",
              "      response: {\n",
              "        action: 'complete',\n",
              "      }\n",
              "    };\n",
              "  }\n",
              "\n",
              "  for (const file of files) {\n",
              "    const li = document.createElement('li');\n",
              "    li.append(span(file.name, {fontWeight: 'bold'}));\n",
              "    li.append(span(\n",
              "        `(${file.type || 'n/a'}) - ${file.size} bytes, ` +\n",
              "        `last modified: ${\n",
              "            file.lastModifiedDate ? file.lastModifiedDate.toLocaleDateString() :\n",
              "                                    'n/a'} - `));\n",
              "    const percent = span('0% done');\n",
              "    li.appendChild(percent);\n",
              "\n",
              "    outputElement.appendChild(li);\n",
              "\n",
              "    const fileDataPromise = new Promise((resolve) => {\n",
              "      const reader = new FileReader();\n",
              "      reader.onload = (e) => {\n",
              "        resolve(e.target.result);\n",
              "      };\n",
              "      reader.readAsArrayBuffer(file);\n",
              "    });\n",
              "    // Wait for the data to be ready.\n",
              "    let fileData = yield {\n",
              "      promise: fileDataPromise,\n",
              "      response: {\n",
              "        action: 'continue',\n",
              "      }\n",
              "    };\n",
              "\n",
              "    // Use a chunked sending to avoid message size limits. See b/62115660.\n",
              "    let position = 0;\n",
              "    do {\n",
              "      const length = Math.min(fileData.byteLength - position, MAX_PAYLOAD_SIZE);\n",
              "      const chunk = new Uint8Array(fileData, position, length);\n",
              "      position += length;\n",
              "\n",
              "      const base64 = btoa(String.fromCharCode.apply(null, chunk));\n",
              "      yield {\n",
              "        response: {\n",
              "          action: 'append',\n",
              "          file: file.name,\n",
              "          data: base64,\n",
              "        },\n",
              "      };\n",
              "\n",
              "      let percentDone = fileData.byteLength === 0 ?\n",
              "          100 :\n",
              "          Math.round((position / fileData.byteLength) * 100);\n",
              "      percent.textContent = `${percentDone}% done`;\n",
              "\n",
              "    } while (position < fileData.byteLength);\n",
              "  }\n",
              "\n",
              "  // All done.\n",
              "  yield {\n",
              "    response: {\n",
              "      action: 'complete',\n",
              "    }\n",
              "  };\n",
              "}\n",
              "\n",
              "scope.google = scope.google || {};\n",
              "scope.google.colab = scope.google.colab || {};\n",
              "scope.google.colab._files = {\n",
              "  _uploadFiles,\n",
              "  _uploadFilesContinue,\n",
              "};\n",
              "})(self);\n",
              "</script> "
            ]
          },
          "metadata": {}
        },
        {
          "output_type": "stream",
          "name": "stdout",
          "text": [
            "Saving Divorcios_En_Colombia_20231024 (1).csv to Divorcios_En_Colombia_20231024 (1).csv\n"
          ]
        }
      ]
    },
    {
      "cell_type": "code",
      "source": [
        "from pandas.core.frame import DataFrame\n",
        "import pandas as pd\n",
        "import matplotlib.pyplot as plt\n",
        "# lectura archivo csv\n",
        "df = pd.read_csv('Divorcios_En_Colombia_20231024 (1).csv')\n",
        "# asignación de los campos en el eje x y eje y\n",
        "y = df['Divorcios']\n",
        "x = df['Departamento']\n",
        "# consultar cual es el numero mayor de divorcios\n",
        "max_divorcios = df['Divorcios'].max()\n",
        "print(\"El valor total de los divorcios es \",max_divorcios)\n",
        "# consultar cual es el numero mayor de divorcios por departamento\n",
        "max_departamento= df['Departamento'].max()\n",
        "print(\"Departamento donde existen mas divorcios\",max_departamento)\n",
        "# crear un grafico de barras\n",
        "plt.bar(x,y, color = 'skyblue')\n",
        "# personalizar grafico\n",
        "plt.ylabel('Divorcios')\n",
        "plt.xlabel('Departamento')\n",
        "plt.title('los mas divorciados')\n",
        "plt.ylim(0,1000)\n",
        "\n",
        "# consultar cual es el numero minimo divorcios colombia\n",
        "min_divorcios = df['Divorcios'].min()\n",
        "print('Departamento con menos divorcios', min_divorcios)\n",
        "\n",
        "#suma divorcios departamento antioquia\n",
        "\n",
        "diAn = df.loc[df['Departamento'] == 'ANTIOQUIA', ['Divorcios']]\n",
        "print(\"La suma del departamento de antioquia es de \",diAn.sum())"
      ],
      "metadata": {
        "colab": {
          "base_uri": "https://localhost:8080/",
          "height": 565
        },
        "id": "2OgNXmQEJaWW",
        "outputId": "071fbb89-1428-4595-b3e1-f934482c265a"
      },
      "execution_count": null,
      "outputs": [
        {
          "output_type": "stream",
          "name": "stdout",
          "text": [
            "El valor total de los divorcios es  668\n",
            "Departamento donde existen mas divorcios VICHADA\n",
            "Departamento con menos divorcios 0\n",
            "La suma del departamento de antioquia es de  Divorcios    30510\n",
            "dtype: int64\n"
          ]
        },
        {
          "output_type": "display_data",
          "data": {
            "text/plain": [
              "<Figure size 640x480 with 1 Axes>"
            ],
            "image/png": "[encoded data removed]"
          },
          "metadata": {}
        }
      ]
    },
    {
      "cell_type": "code",
      "source": [
        "from google.colab import files\n",
        "load =files.upload()"
      ],
      "metadata": {
        "colab": {
          "base_uri": "https://localhost:8080/",
          "height": 73
        },
        "id": "D_BpwxgEyQYl",
        "outputId": "4cd0d60a-e177-446a-8f85-524fe14552dd"
      },
      "execution_count": null,
      "outputs": [
        {
          "output_type": "display_data",
          "data": {
            "text/plain": [
              "<IPython.core.display.HTML object>"
            ],
            "text/html": [
              "\n",
              "     <input type=\"file\" id=\"files-5af138e9-41fe-4cb3-b609-2af9cc129bfa\" name=\"files[]\" multiple disabled\n",
              "        style=\"border:none\" />\n",
              "     <output id=\"result-5af138e9-41fe-4cb3-b609-2af9cc129bfa\">\n",
              "      Upload widget is only available when the cell has been executed in the\n",
              "      current browser session. Please rerun this cell to enable.\n",
              "      </output>\n",
              "      <script>// Copyright 2017 Google LLC\n",
              "//\n",
              "// Licensed under the Apache License, Version 2.0 (the \"License\");\n",
              "// you may not use this file except in compliance with the License.\n",
              "// You may obtain a copy of the License at\n",
              "//\n",
              "//      http://www.apache.org/licenses/LICENSE-2.0\n",
              "//\n",
              "// Unless required by applicable law or agreed to in writing, software\n",
              "// distributed under the License is distributed on an \"AS IS\" BASIS,\n",
              "// WITHOUT WARRANTIES OR CONDITIONS OF ANY KIND, either express or implied.\n",
              "// See the License for the specific language governing permissions and\n",
              "// limitations under the License.\n",
              "\n",
              "/**\n",
              " * @fileoverview Helpers for google.colab Python module.\n",
              " */\n",
              "(function(scope) {\n",
              "function span(text, styleAttributes = {}) {\n",
              "  const element = document.createElement('span');\n",
              "  element.textContent = text;\n",
              "  for (const key of Object.keys(styleAttributes)) {\n",
              "    element.style[key] = styleAttributes[key];\n",
              "  }\n",
              "  return element;\n",
              "}\n",
              "\n",
              "// Max number of bytes which will be uploaded at a time.\n",
              "const MAX_PAYLOAD_SIZE = 100 * 1024;\n",
              "\n",
              "function _uploadFiles(inputId, outputId) {\n",
              "  const steps = uploadFilesStep(inputId, outputId);\n",
              "  const outputElement = document.getElementById(outputId);\n",
              "  // Cache steps on the outputElement to make it available for the next call\n",
              "  // to uploadFilesContinue from Python.\n",
              "  outputElement.steps = steps;\n",
              "\n",
              "  return _uploadFilesContinue(outputId);\n",
              "}\n",
              "\n",
              "// This is roughly an async generator (not supported in the browser yet),\n",
              "// where there are multiple asynchronous steps and the Python side is going\n",
              "// to poll for completion of each step.\n",
              "// This uses a Promise to block the python side on completion of each step,\n",
              "// then passes the result of the previous step as the input to the next step.\n",
              "function _uploadFilesContinue(outputId) {\n",
              "  const outputElement = document.getElementById(outputId);\n",
              "  const steps = outputElement.steps;\n",
              "\n",
              "  const next = steps.next(outputElement.lastPromiseValue);\n",
              "  return Promise.resolve(next.value.promise).then((value) => {\n",
              "    // Cache the last promise value to make it available to the next\n",
              "    // step of the generator.\n",
              "    outputElement.lastPromiseValue = value;\n",
              "    return next.value.response;\n",
              "  });\n",
              "}\n",
              "\n",
              "/**\n",
              " * Generator function which is called between each async step of the upload\n",
              " * process.\n",
              " * @param {string} inputId Element ID of the input file picker element.\n",
              " * @param {string} outputId Element ID of the output display.\n",
              " * @return {!Iterable<!Object>} Iterable of next steps.\n",
              " */\n",
              "function* uploadFilesStep(inputId, outputId) {\n",
              "  const inputElement = document.getElementById(inputId);\n",
              "  inputElement.disabled = false;\n",
              "\n",
              "  const outputElement = document.getElementById(outputId);\n",
              "  outputElement.innerHTML = '';\n",
              "\n",
              "  const pickedPromise = new Promise((resolve) => {\n",
              "    inputElement.addEventListener('change', (e) => {\n",
              "      resolve(e.target.files);\n",
              "    });\n",
              "  });\n",
              "\n",
              "  const cancel = document.createElement('button');\n",
              "  inputElement.parentElement.appendChild(cancel);\n",
              "  cancel.textContent = 'Cancel upload';\n",
              "  const cancelPromise = new Promise((resolve) => {\n",
              "    cancel.onclick = () => {\n",
              "      resolve(null);\n",
              "    };\n",
              "  });\n",
              "\n",
              "  // Wait for the user to pick the files.\n",
              "  const files = yield {\n",
              "    promise: Promise.race([pickedPromise, cancelPromise]),\n",
              "    response: {\n",
              "      action: 'starting',\n",
              "    }\n",
              "  };\n",
              "\n",
              "  cancel.remove();\n",
              "\n",
              "  // Disable the input element since further picks are not allowed.\n",
              "  inputElement.disabled = true;\n",
              "\n",
              "  if (!files) {\n",
              "    return {\n",
              "      response: {\n",
              "        action: 'complete',\n",
              "      }\n",
              "    };\n",
              "  }\n",
              "\n",
              "  for (const file of files) {\n",
              "    const li = document.createElement('li');\n",
              "    li.append(span(file.name, {fontWeight: 'bold'}));\n",
              "    li.append(span(\n",
              "        `(${file.type || 'n/a'}) - ${file.size} bytes, ` +\n",
              "        `last modified: ${\n",
              "            file.lastModifiedDate ? file.lastModifiedDate.toLocaleDateString() :\n",
              "                                    'n/a'} - `));\n",
              "    const percent = span('0% done');\n",
              "    li.appendChild(percent);\n",
              "\n",
              "    outputElement.appendChild(li);\n",
              "\n",
              "    const fileDataPromise = new Promise((resolve) => {\n",
              "      const reader = new FileReader();\n",
              "      reader.onload = (e) => {\n",
              "        resolve(e.target.result);\n",
              "      };\n",
              "      reader.readAsArrayBuffer(file);\n",
              "    });\n",
              "    // Wait for the data to be ready.\n",
              "    let fileData = yield {\n",
              "      promise: fileDataPromise,\n",
              "      response: {\n",
              "        action: 'continue',\n",
              "      }\n",
              "    };\n",
              "\n",
              "    // Use a chunked sending to avoid message size limits. See b/62115660.\n",
              "    let position = 0;\n",
              "    do {\n",
              "      const length = Math.min(fileData.byteLength - position, MAX_PAYLOAD_SIZE);\n",
              "      const chunk = new Uint8Array(fileData, position, length);\n",
              "      position += length;\n",
              "\n",
              "      const base64 = btoa(String.fromCharCode.apply(null, chunk));\n",
              "      yield {\n",
              "        response: {\n",
              "          action: 'append',\n",
              "          file: file.name,\n",
              "          data: base64,\n",
              "        },\n",
              "      };\n",
              "\n",
              "      let percentDone = fileData.byteLength === 0 ?\n",
              "          100 :\n",
              "          Math.round((position / fileData.byteLength) * 100);\n",
              "      percent.textContent = `${percentDone}% done`;\n",
              "\n",
              "    } while (position < fileData.byteLength);\n",
              "  }\n",
              "\n",
              "  // All done.\n",
              "  yield {\n",
              "    response: {\n",
              "      action: 'complete',\n",
              "    }\n",
              "  };\n",
              "}\n",
              "\n",
              "scope.google = scope.google || {};\n",
              "scope.google.colab = scope.google.colab || {};\n",
              "scope.google.colab._files = {\n",
              "  _uploadFiles,\n",
              "  _uploadFilesContinue,\n",
              "};\n",
              "})(self);\n",
              "</script> "
            ]
          },
          "metadata": {}
        },
        {
          "output_type": "stream",
          "name": "stdout",
          "text": [
            "Saving Colombianos_registrados_en_el_exterior.csv to Colombianos_registrados_en_el_exterior.csv\n"
          ]
        }
      ]
    },
    {
      "cell_type": "code",
      "source": [
        "from pandas.core.frame import DataFrame\n",
        "import pandas as pd\n",
        "import matplotlib.pyplot as plt\n",
        "# lectura archivo csv\n",
        "df = pd.read_csv('Colombianos_registrados_en_el_exterior.csv')\n",
        "\n",
        "y = df['País']\n"
      ],
      "metadata": {
        "id": "PnLnXWPWyUPP"
      },
      "execution_count": null,
      "outputs": []
    },
    {
      "cell_type": "code",
      "source": [
        "import pandas as pd\n",
        "\n",
        "# Crear un DataFrame con los datos\n",
        "data = {\n",
        "    'ENCUESTA': [15, 42, 17, 34, 12, 18, 30, 50],\n",
        "    'EDAD': [18, 22, 14, 41, 22, 15, 30, 12],\n",
        "    'SEXO': ['M', 'M', 'F', 'M', 'M', 'M', 'M', 'F'],\n",
        "    'ESTRATO': [2, 5, 3, 3, 3, 3, 2, 1],\n",
        "    'ESTADO CIVIL': ['S', 'C', 'S', 'V', 'S', 'S', 'C', 'S'],\n",
        "    'ZONA': ['FACATATIVA', 'FUNZA', 'MOSQUERA', 'MADRID', 'FACATATIVA', 'FACATATIVA', 'MADRID', 'FACATATIVA'],\n",
        "    'CONSUMO_POR_SEMANA': [12, 14, 8, 9, 10, 9, 2, 1],\n",
        "    'PRECIO_MAXIMO': [1041, 1325, 1499, 1034, 1022, 1025, 1111, 1099],\n",
        "    'SABOR_PREFERIDO': ['CURUBA', 'NARANJA', 'NARANJA', 'MANDARINA', 'MANDARINA', 'NARANJA', 'NARANJA', 'MANDARINA'],\n",
        "    'DESCRIPCION_SABOR': ['BUENO', 'MALO', 'REGULAR', 'EXCELENTE', 'REGULAR', 'REGULAR', 'BUENO', 'BUENO']\n",
        "}\n",
        "\n",
        "df = pd.DataFrame(data)\n",
        "\n",
        "# 1. Determinar cuántas encuestas se realizaron por zona de la ciudad.\n",
        "encuestas_por_zona = df['ZONA'].value_counts()\n",
        "\n",
        "# 2. Cuantas encuestas se realizaron por estado civil.\n",
        "encuestas_por_estado_civil = df['ESTADO CIVIL'].value_counts()\n",
        "\n",
        "# 3. Cuantas encuestas se realizaron por sexo y por zona de la ciudad.\n",
        "encuestas_por_sexo_y_zona = df.groupby(['SEXO', 'ZONA']).size()\n",
        "\n",
        "# 4. Cuál es la edad promedio por sexo y estado civil.\n",
        "edad_promedio_por_sexo_estado_civil = df.groupby(['SEXO', 'ESTADO CIVIL'])['EDAD'].mean()\n",
        "\n",
        "# 5. Número de personas por sexo por cada sabor preferido.\n",
        "personas_por_sexo_y_sabor = df.groupby(['SEXO', 'SABOR_PREFERIDO']).size()\n",
        "\n",
        "# 6. Cuál es el precio máximo por descripción de sabor por estado civil.\n",
        "precio_maximo_por_descripcion_sabor_estado_civil = df.groupby(['DESCRIPCION_SABOR', 'ESTADO CIVIL'])['PRECIO_MAXIMO'].max()\n",
        "\n",
        "# 7. Por cada zona de la ciudad cual es precio máximo por sabor preferido y por descripción del sabor.\n",
        "precio_maximo_por_zona_sabor_y_descripcion = df.groupby(['ZONA', 'SABOR_PREFERIDO', 'DESCRIPCION_SABOR'])['PRECIO_MAXIMO'].max()\n",
        "\n",
        "# 8. Por descripción del sabor cual es el consumo promedio por semana, por sabor preferido y por estado civil.\n",
        "consumo_promedio_por_descripcion_sabor = df.groupby(['DESCRIPCION_SABOR', 'SABOR_PREFERIDO'])['CONSUMO_POR_SEMANA'].mean()\n",
        "\n",
        "# 9. Por sabor preferido cual es la edad máxima por estrato y zona de la ciudad.\n",
        "edad_maxima_por_sabor_y_estrato_zona = df.groupby(['SABOR_PREFERIDO', 'ESTRATO', 'ZONA'])['EDAD'].max()\n",
        "\n",
        "# 10. Determinar cuántas personas se encuestaron por zona de la ciudad, estrato y descripción de sabor.\n",
        "personas_por_zona_estrato_descripcion_sabor = df.groupby(['ZONA', 'ESTRATO', 'DESCRIPCION_SABOR']).size()\n",
        "\n",
        "# Imprimir los resultados de las consultas\n",
        "print(\"1. Encuestas por zona de la ciudad:\")\n",
        "print(encuestas_por_zona)\n",
        "\n",
        "print(\"\\n2. Encuestas por estado civil:\")\n",
        "print(encuestas_por_estado_civil)\n",
        "\n",
        "print(\"\\n3. Encuestas por sexo y por zona de la ciudad:\")\n",
        "print(encuestas_por_sexo_y_zona)\n",
        "\n",
        "print(\"\\n4. Edad promedio por sexo y estado civil:\")\n",
        "print(edad_promedio_por_sexo_estado_civil)\n",
        "\n",
        "print(\"\\n5. Número de personas por sexo por sabor preferido:\")\n",
        "print(personas_por_sexo_y_sabor)\n",
        "\n",
        "print(\"\\n6. Precio máximo por descripción de sabor por estado civil:\")\n",
        "print(precio_maximo_por_descripcion_sabor_estado_civil)\n",
        "\n",
        "print(\"\\n7. Precio máximo por zona de la ciudad por sabor preferido y descripción del sabor:\")\n",
        "print(precio_maximo_por_zona_sabor_y_descripcion)\n",
        "\n",
        "print(\"\\n8. Consumo promedio por descripción de sabor y sabor preferido:\")\n",
        "print(consumo_promedio_por_descripcion_sabor)\n",
        "\n",
        "print(\"\\n9. Edad máxima por sabor preferido, estrato y zona de la ciudad:\")\n",
        "print(edad_maxima_por_sabor_y_estrato_zona)\n",
        "\n",
        "print(\"\\n10. Personas encuestadas por zona de la ciudad, estrato y descripción de sabor:\")\n",
        "print(personas_por_zona_estrato_descripcion_sabor)\n",
        "\n",
        "\n",
        "\n",
        "import pandas as pd\n",
        "import matplotlib.pyplot as plt\n",
        "\n",
        "# ... (Código para crear el DataFrame y realizar las consultas) ...\n",
        "\n",
        "# 1. Gráfico de encuestas por zona de la ciudad.\n",
        "encuestas_por_zona.plot(kind='bar', title='Encuestas por Zona')\n",
        "plt.xlabel('Zona')\n",
        "plt.ylabel('Número de Encuestas')\n",
        "plt.show()\n",
        "\n",
        "# 3. Gráfico de encuestas por sexo y por zona de la ciudad.\n",
        "encuestas_por_sexo_y_zona.unstack().plot(kind='bar', title='Encuestas por Sexo y Zona')\n",
        "plt.xlabel('Sexo')\n",
        "plt.ylabel('Número de Encuestas')\n",
        "plt.show()\n",
        "\n",
        "# 5. Gráfico de número de personas por sexo y sabor preferido.\n",
        "personas_por_sexo_y_sabor.unstack().plot(kind='bar', title='Personas por Sexo y Sabor Preferido')\n",
        "plt.xlabel('Sexo')\n",
        "plt.ylabel('Número de Personas')\n",
        "plt.show()\n",
        "\n",
        "# 8. Gráfico de consumo promedio por descripción de sabor y sabor preferido.\n",
        "consumo_promedio_por_descripcion_sabor.unstack().plot(kind='bar', title='Consumo Promedio por Descripción de Sabor y Sabor Preferido')\n",
        "plt.xlabel('Sabor Preferido')\n",
        "plt.ylabel('Consumo Promedio por Semana')\n",
        "plt.show()\n",
        "\n",
        "# Puedes agregar gráficos para las otras consultas de manera similar.\n",
        "\n"
      ],
      "metadata": {
        "colab": {
          "base_uri": "https://localhost:8080/",
          "height": 1000
        },
        "id": "H3UAJDoKidDR",
        "outputId": "52253057-a9e9-4561-ae31-2980a5fd76ad"
      },
      "execution_count": null,
      "outputs": [
        {
          "output_type": "stream",
          "name": "stdout",
          "text": [
            "1. Encuestas por zona de la ciudad:\n",
            "FACATATIVA    4\n",
            "MADRID        2\n",
            "FUNZA         1\n",
            "MOSQUERA      1\n",
            "Name: ZONA, dtype: int64\n",
            "\n",
            "2. Encuestas por estado civil:\n",
            "S    5\n",
            "C    2\n",
            "V    1\n",
            "Name: ESTADO CIVIL, dtype: int64\n",
            "\n",
            "3. Encuestas por sexo y por zona de la ciudad:\n",
            "SEXO  ZONA      \n",
            "F     FACATATIVA    1\n",
            "      MOSQUERA      1\n",
            "M     FACATATIVA    3\n",
            "      FUNZA         1\n",
            "      MADRID        2\n",
            "dtype: int64\n",
            "\n",
            "4. Edad promedio por sexo y estado civil:\n",
            "SEXO  ESTADO CIVIL\n",
            "F     S               13.000000\n",
            "M     C               26.000000\n",
            "      S               18.333333\n",
            "      V               41.000000\n",
            "Name: EDAD, dtype: float64\n",
            "\n",
            "5. Número de personas por sexo por sabor preferido:\n",
            "SEXO  SABOR_PREFERIDO\n",
            "F     MANDARINA          1\n",
            "      NARANJA            1\n",
            "M     CURUBA             1\n",
            "      MANDARINA          2\n",
            "      NARANJA            3\n",
            "dtype: int64\n",
            "\n",
            "6. Precio máximo por descripción de sabor por estado civil:\n",
            "DESCRIPCION_SABOR  ESTADO CIVIL\n",
            "BUENO              C               1111\n",
            "                   S               1099\n",
            "EXCELENTE          V               1034\n",
            "MALO               C               1325\n",
            "REGULAR            S               1499\n",
            "Name: PRECIO_MAXIMO, dtype: int64\n",
            "\n",
            "7. Precio máximo por zona de la ciudad por sabor preferido y descripción del sabor:\n",
            "ZONA        SABOR_PREFERIDO  DESCRIPCION_SABOR\n",
            "FACATATIVA  CURUBA           BUENO                1041\n",
            "            MANDARINA        BUENO                1099\n",
            "                             REGULAR              1022\n",
            "            NARANJA          REGULAR              1025\n",
            "FUNZA       NARANJA          MALO                 1325\n",
            "MADRID      MANDARINA        EXCELENTE            1034\n",
            "            NARANJA          BUENO                1111\n",
            "MOSQUERA    NARANJA          REGULAR              1499\n",
            "Name: PRECIO_MAXIMO, dtype: int64\n",
            "\n",
            "8. Consumo promedio por descripción de sabor y sabor preferido:\n",
            "DESCRIPCION_SABOR  SABOR_PREFERIDO\n",
            "BUENO              CURUBA             12.0\n",
            "                   MANDARINA           1.0\n",
            "                   NARANJA             2.0\n",
            "EXCELENTE          MANDARINA           9.0\n",
            "MALO               NARANJA            14.0\n",
            "REGULAR            MANDARINA          10.0\n",
            "                   NARANJA             8.5\n",
            "Name: CONSUMO_POR_SEMANA, dtype: float64\n",
            "\n",
            "9. Edad máxima por sabor preferido, estrato y zona de la ciudad:\n",
            "SABOR_PREFERIDO  ESTRATO  ZONA      \n",
            "CURUBA           2        FACATATIVA    18\n",
            "MANDARINA        1        FACATATIVA    12\n",
            "                 3        FACATATIVA    22\n",
            "                          MADRID        41\n",
            "NARANJA          2        MADRID        30\n",
            "                 3        FACATATIVA    15\n",
            "                          MOSQUERA      14\n",
            "                 5        FUNZA         22\n",
            "Name: EDAD, dtype: int64\n",
            "\n",
            "10. Personas encuestadas por zona de la ciudad, estrato y descripción de sabor:\n",
            "ZONA        ESTRATO  DESCRIPCION_SABOR\n",
            "FACATATIVA  1        BUENO                1\n",
            "            2        BUENO                1\n",
            "            3        REGULAR              2\n",
            "FUNZA       5        MALO                 1\n",
            "MADRID      2        BUENO                1\n",
            "            3        EXCELENTE            1\n",
            "MOSQUERA    3        REGULAR              1\n",
            "dtype: int64\n"
          ]
        },
        {
          "output_type": "display_data",
          "data": {
            "text/plain": [
              "<Figure size 640x480 with 1 Axes>"
            ],
            "image/png": "[encoded data removed]"
          },
          "metadata": {}
        },
        {
          "output_type": "display_data",
          "data": {
            "text/plain": [
              "<Figure size 640x480 with 1 Axes>"
            ],
            "image/png": "[encoded data removed]"
          },
          "metadata": {}
        },
        {
          "output_type": "display_data",
          "data": {
            "text/plain": [
              "<Figure size 640x480 with 1 Axes>"
            ],
            "image/png": "[encoded data removed]"
          },
          "metadata": {}
        },
        {
          "output_type": "display_data",
          "data": {
            "text/plain": [
              "<Figure size 640x480 with 1 Axes>"
            ],
            "image/png": "[encoded data removed]"
          },
          "metadata": {}
        }
      ]
    },
    {
      "cell_type": "code",
      "source": [
        "from google.colab import files\n",
        "load =files.upload()"
      ],
      "metadata": {
        "colab": {
          "base_uri": "https://localhost:8080/",
          "height": 73
        },
        "id": "dbtUD2memRyB",
        "outputId": "0d9aff47-4f7d-4654-c2ed-2d094761074f"
      },
      "execution_count": null,
      "outputs": [
        {
          "output_type": "display_data",
          "data": {
            "text/plain": [
              "<IPython.core.display.HTML object>"
            ],
            "text/html": [
              "\n",
              "     <input type=\"file\" id=\"files-449e57cd-1b24-4b97-aed6-3ae4d65a89ee\" name=\"files[]\" multiple disabled\n",
              "        style=\"border:none\" />\n",
              "     <output id=\"result-449e57cd-1b24-4b97-aed6-3ae4d65a89ee\">\n",
              "      Upload widget is only available when the cell has been executed in the\n",
              "      current browser session. Please rerun this cell to enable.\n",
              "      </output>\n",
              "      <script>// Copyright 2017 Google LLC\n",
              "//\n",
              "// Licensed under the Apache License, Version 2.0 (the \"License\");\n",
              "// you may not use this file except in compliance with the License.\n",
              "// You may obtain a copy of the License at\n",
              "//\n",
              "//      http://www.apache.org/licenses/LICENSE-2.0\n",
              "//\n",
              "// Unless required by applicable law or agreed to in writing, software\n",
              "// distributed under the License is distributed on an \"AS IS\" BASIS,\n",
              "// WITHOUT WARRANTIES OR CONDITIONS OF ANY KIND, either express or implied.\n",
              "// See the License for the specific language governing permissions and\n",
              "// limitations under the License.\n",
              "\n",
              "/**\n",
              " * @fileoverview Helpers for google.colab Python module.\n",
              " */\n",
              "(function(scope) {\n",
              "function span(text, styleAttributes = {}) {\n",
              "  const element = document.createElement('span');\n",
              "  element.textContent = text;\n",
              "  for (const key of Object.keys(styleAttributes)) {\n",
              "    element.style[key] = styleAttributes[key];\n",
              "  }\n",
              "  return element;\n",
              "}\n",
              "\n",
              "// Max number of bytes which will be uploaded at a time.\n",
              "const MAX_PAYLOAD_SIZE = 100 * 1024;\n",
              "\n",
              "function _uploadFiles(inputId, outputId) {\n",
              "  const steps = uploadFilesStep(inputId, outputId);\n",
              "  const outputElement = document.getElementById(outputId);\n",
              "  // Cache steps on the outputElement to make it available for the next call\n",
              "  // to uploadFilesContinue from Python.\n",
              "  outputElement.steps = steps;\n",
              "\n",
              "  return _uploadFilesContinue(outputId);\n",
              "}\n",
              "\n",
              "// This is roughly an async generator (not supported in the browser yet),\n",
              "// where there are multiple asynchronous steps and the Python side is going\n",
              "// to poll for completion of each step.\n",
              "// This uses a Promise to block the python side on completion of each step,\n",
              "// then passes the result of the previous step as the input to the next step.\n",
              "function _uploadFilesContinue(outputId) {\n",
              "  const outputElement = document.getElementById(outputId);\n",
              "  const steps = outputElement.steps;\n",
              "\n",
              "  const next = steps.next(outputElement.lastPromiseValue);\n",
              "  return Promise.resolve(next.value.promise).then((value) => {\n",
              "    // Cache the last promise value to make it available to the next\n",
              "    // step of the generator.\n",
              "    outputElement.lastPromiseValue = value;\n",
              "    return next.value.response;\n",
              "  });\n",
              "}\n",
              "\n",
              "/**\n",
              " * Generator function which is called between each async step of the upload\n",
              " * process.\n",
              " * @param {string} inputId Element ID of the input file picker element.\n",
              " * @param {string} outputId Element ID of the output display.\n",
              " * @return {!Iterable<!Object>} Iterable of next steps.\n",
              " */\n",
              "function* uploadFilesStep(inputId, outputId) {\n",
              "  const inputElement = document.getElementById(inputId);\n",
              "  inputElement.disabled = false;\n",
              "\n",
              "  const outputElement = document.getElementById(outputId);\n",
              "  outputElement.innerHTML = '';\n",
              "\n",
              "  const pickedPromise = new Promise((resolve) => {\n",
              "    inputElement.addEventListener('change', (e) => {\n",
              "      resolve(e.target.files);\n",
              "    });\n",
              "  });\n",
              "\n",
              "  const cancel = document.createElement('button');\n",
              "  inputElement.parentElement.appendChild(cancel);\n",
              "  cancel.textContent = 'Cancel upload';\n",
              "  const cancelPromise = new Promise((resolve) => {\n",
              "    cancel.onclick = () => {\n",
              "      resolve(null);\n",
              "    };\n",
              "  });\n",
              "\n",
              "  // Wait for the user to pick the files.\n",
              "  const files = yield {\n",
              "    promise: Promise.race([pickedPromise, cancelPromise]),\n",
              "    response: {\n",
              "      action: 'starting',\n",
              "    }\n",
              "  };\n",
              "\n",
              "  cancel.remove();\n",
              "\n",
              "  // Disable the input element since further picks are not allowed.\n",
              "  inputElement.disabled = true;\n",
              "\n",
              "  if (!files) {\n",
              "    return {\n",
              "      response: {\n",
              "        action: 'complete',\n",
              "      }\n",
              "    };\n",
              "  }\n",
              "\n",
              "  for (const file of files) {\n",
              "    const li = document.createElement('li');\n",
              "    li.append(span(file.name, {fontWeight: 'bold'}));\n",
              "    li.append(span(\n",
              "        `(${file.type || 'n/a'}) - ${file.size} bytes, ` +\n",
              "        `last modified: ${\n",
              "            file.lastModifiedDate ? file.lastModifiedDate.toLocaleDateString() :\n",
              "                                    'n/a'} - `));\n",
              "    const percent = span('0% done');\n",
              "    li.appendChild(percent);\n",
              "\n",
              "    outputElement.appendChild(li);\n",
              "\n",
              "    const fileDataPromise = new Promise((resolve) => {\n",
              "      const reader = new FileReader();\n",
              "      reader.onload = (e) => {\n",
              "        resolve(e.target.result);\n",
              "      };\n",
              "      reader.readAsArrayBuffer(file);\n",
              "    });\n",
              "    // Wait for the data to be ready.\n",
              "    let fileData = yield {\n",
              "      promise: fileDataPromise,\n",
              "      response: {\n",
              "        action: 'continue',\n",
              "      }\n",
              "    };\n",
              "\n",
              "    // Use a chunked sending to avoid message size limits. See b/62115660.\n",
              "    let position = 0;\n",
              "    do {\n",
              "      const length = Math.min(fileData.byteLength - position, MAX_PAYLOAD_SIZE);\n",
              "      const chunk = new Uint8Array(fileData, position, length);\n",
              "      position += length;\n",
              "\n",
              "      const base64 = btoa(String.fromCharCode.apply(null, chunk));\n",
              "      yield {\n",
              "        response: {\n",
              "          action: 'append',\n",
              "          file: file.name,\n",
              "          data: base64,\n",
              "        },\n",
              "      };\n",
              "\n",
              "      let percentDone = fileData.byteLength === 0 ?\n",
              "          100 :\n",
              "          Math.round((position / fileData.byteLength) * 100);\n",
              "      percent.textContent = `${percentDone}% done`;\n",
              "\n",
              "    } while (position < fileData.byteLength);\n",
              "  }\n",
              "\n",
              "  // All done.\n",
              "  yield {\n",
              "    response: {\n",
              "      action: 'complete',\n",
              "    }\n",
              "  };\n",
              "}\n",
              "\n",
              "scope.google = scope.google || {};\n",
              "scope.google.colab = scope.google.colab || {};\n",
              "scope.google.colab._files = {\n",
              "  _uploadFiles,\n",
              "  _uploadFilesContinue,\n",
              "};\n",
              "})(self);\n",
              "</script> "
            ]
          },
          "metadata": {}
        },
        {
          "output_type": "stream",
          "name": "stdout",
          "text": [
            "Saving Entradas_de_extranjeros_a_Colombia_20231101.csv to Entradas_de_extranjeros_a_Colombia_20231101.csv\n"
          ]
        }
      ]
    },
    {
      "cell_type": "code",
      "source": [
        "from pandas.core.frame import DataFrame\n",
        "import pandas as pd\n",
        "import matplotlib.pyplot as plt\n",
        "# lectura archivo csv\n",
        "df = pd.read_csv('Entradas_de_extranjeros_a_Colombia_20231101.csv')\n",
        "\n",
        "\n",
        "x = df['Femenino']\n",
        "\n",
        "\n",
        "\n",
        "max_entradas = df['Femenino'].max()\n",
        "print(f\"El mayor de entradas femeninas{max_entradas}\")\n",
        "\n",
        "\n",
        "min_entradas = df['Femenino'].min()\n",
        "print(f\"El menor de entradas femeninas{min_entradas}\")\n",
        "\n",
        "\n",
        "suma_entradas = df['Femenino'].sum()\n",
        "print(f\"La suma de las entradas femeninas{suma_entradas}\")\n",
        "\n",
        "\n",
        "cantidad_hombres = df['Masculino'].count()\n",
        "print(f\"La cantidad de hombre es {cantidad_hombres}\")\n",
        "\n",
        "\n",
        "\n",
        "\n",
        "plt.bar(x,y, color='blue')\n",
        "\n",
        "plt.xlabel('Femenino')\n",
        "plt.title('Grafica')\n",
        "plt.show()\n"
      ],
      "metadata": {
        "colab": {
          "base_uri": "https://localhost:8080/"
        },
        "id": "A7CoSOLHne0_",
        "outputId": "ec8e2998-8474-47ce-9def-28118247c8f6"
      },
      "execution_count": null,
      "outputs": [
        {
          "output_type": "stream",
          "name": "stdout",
          "text": [
            "El mayor de entradas femeninas39500\n",
            "El menor de entradas femeninas0\n",
            "La suma de las entradas femeninas12675231\n",
            "La cantidad de hombre es 135040\n"
          ]
        },
        {
          "output_type": "display_data",
          "data": {
            "text/plain": [
              "<Figure size 640x480 with 1 Axes>"
            ],
            "image/png": "[encoded data removed]"
          },
          "metadata": {}
        }
      ]
    }
  ]
}